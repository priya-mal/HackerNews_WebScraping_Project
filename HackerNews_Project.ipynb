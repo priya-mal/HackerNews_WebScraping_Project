{
 "cells": [
  {
   "cell_type": "markdown",
   "metadata": {},
   "source": [
    "## HackerNews WebScraping Project"
   ]
  },
  {
   "cell_type": "code",
   "execution_count": 2,
   "metadata": {},
   "outputs": [],
   "source": [
    "import requests\n",
    "from bs4 import BeautifulSoup\n",
    "import pprint\n",
    "\n",
    "res = requests.get('https://news.ycombinator.com/news')\n",
    "res2 = requests.get('https://news.ycombinator.com/news')\n",
    "soup = BeautifulSoup(res.text,'html.parser')\n",
    "soup2 = BeautifulSoup(res2.text,'html.parser')\n",
    "links = soup.select('.storylink')\n",
    "subtext= soup.select('.subtext')\n",
    "links2 = soup2.select('.storylink')\n",
    "subtext2= soup2.select('.subtext')\n",
    "\n",
    "mega_links=links+links2\n",
    "mega_subtext=subtext+subtext2"
   ]
  },
  {
   "cell_type": "code",
   "execution_count": 3,
   "metadata": {},
   "outputs": [
    {
     "name": "stdout",
     "output_type": "stream",
     "text": [
      "[{'Title': 'Bye, Amazon',\n",
      "  'Votes': 1215,\n",
      "  'link': 'https://www.tbray.org/ongoing/When/202x/2020/04/29/Leaving-Amazon'},\n",
      " {'Title': 'Bye, Amazon',\n",
      "  'Votes': 1215,\n",
      "  'link': 'https://www.tbray.org/ongoing/When/202x/2020/04/29/Leaving-Amazon'},\n",
      " {'Title': 'Startup financial models – Templates compared for SaaS',\n",
      "  'Votes': 543,\n",
      "  'link': 'https://www.stephnass.com/blog/startup-financial-model'},\n",
      " {'Title': 'Startup financial models – Templates compared for SaaS',\n",
      "  'Votes': 543,\n",
      "  'link': 'https://www.stephnass.com/blog/startup-financial-model'},\n",
      " {'Title': 'A man feeding a remote Alaska town with a Costco card and a ship',\n",
      "  'Votes': 427,\n",
      "  'link': 'https://thehustle.co/the-man-feeding-a-remote-alaska-town-with-a-costco-card-and-a-ship'},\n",
      " {'Title': 'A man feeding a remote Alaska town with a Costco card and a ship',\n",
      "  'Votes': 427,\n",
      "  'link': 'https://thehustle.co/the-man-feeding-a-remote-alaska-town-with-a-costco-card-and-a-ship'},\n",
      " {'Title': 'Cut and paste your surroundings using AR',\n",
      "  'Votes': 271,\n",
      "  'link': 'https://github.com/cyrildiagne/ar-cutpaste'},\n",
      " {'Title': 'Cut and paste your surroundings using AR',\n",
      "  'Votes': 271,\n",
      "  'link': 'https://github.com/cyrildiagne/ar-cutpaste'},\n",
      " {'Title': 'New MacBook Pro 13-Inch',\n",
      "  'Votes': 239,\n",
      "  'link': 'https://www.apple.com/newsroom/2020/05/apple-updates-13-inch-macbook-pro-with-magic-keyboard-double-the-storage-and-faster-performance/'},\n",
      " {'Title': 'New MacBook Pro 13-Inch',\n",
      "  'Votes': 239,\n",
      "  'link': 'https://www.apple.com/newsroom/2020/05/apple-updates-13-inch-macbook-pro-with-magic-keyboard-double-the-storage-and-faster-performance/'},\n",
      " {'Title': 'Unimpressed by online classes, college students file lawsuits for '\n",
      "           'refunds',\n",
      "  'Votes': 222,\n",
      "  'link': 'https://apnews.com/f18a0a48925a19586e4d810f6e88eff3'},\n",
      " {'Title': 'Unimpressed by online classes, college students file lawsuits for '\n",
      "           'refunds',\n",
      "  'Votes': 222,\n",
      "  'link': 'https://apnews.com/f18a0a48925a19586e4d810f6e88eff3'},\n",
      " {'Title': \"Why strace doesn't work in Docker\",\n",
      "  'Votes': 158,\n",
      "  'link': 'https://jvns.ca/blog/2020/04/29/why-strace-doesnt-work-in-docker/'},\n",
      " {'Title': \"Why strace doesn't work in Docker\",\n",
      "  'Votes': 158,\n",
      "  'link': 'https://jvns.ca/blog/2020/04/29/why-strace-doesnt-work-in-docker/'},\n",
      " {'Title': \"Malaria 'Completely Stopped' by Microbe\",\n",
      "  'Votes': 141,\n",
      "  'link': 'https://www.bbc.com/news/health-52530828'},\n",
      " {'Title': \"Malaria 'Completely Stopped' by Microbe\",\n",
      "  'Votes': 141,\n",
      "  'link': 'https://www.bbc.com/news/health-52530828'},\n",
      " {'Title': 'Never attribute to stupidity what is adequately explained by '\n",
      "           'opportunity cost',\n",
      "  'Votes': 134,\n",
      "  'link': 'https://erikbern.com/2020/03/10/never-attribute-to-stupidity-that-which-is-adequately-explained-by-opportunity-cost.html'},\n",
      " {'Title': 'Never attribute to stupidity what is adequately explained by '\n",
      "           'opportunity cost',\n",
      "  'Votes': 134,\n",
      "  'link': 'https://erikbern.com/2020/03/10/never-attribute-to-stupidity-that-which-is-adequately-explained-by-opportunity-cost.html'},\n",
      " {'Title': 'Companies consider abandoning open office layouts to prevent '\n",
      "           'disease spread',\n",
      "  'Votes': 110,\n",
      "  'link': 'https://www.nytimes.com/2020/05/04/health/coronavirus-office-makeover.html'},\n",
      " {'Title': 'Companies consider abandoning open office layouts to prevent '\n",
      "           'disease spread',\n",
      "  'Votes': 110,\n",
      "  'link': 'https://www.nytimes.com/2020/05/04/health/coronavirus-office-makeover.html'},\n",
      " {'Title': 'Amazon VP Resigns, Calls Company ‘Chickenshit’ for Firing '\n",
      "           'Protesting Workers',\n",
      "  'Votes': 106,\n",
      "  'link': 'https://www.vice.com/en_us/article/z3bjpj/amazon-vp-tim-bray-resigns-calls-company-chickenshit-for-firing-protesting-workers'},\n",
      " {'Title': 'Amazon VP Resigns, Calls Company ‘Chickenshit’ for Firing '\n",
      "           'Protesting Workers',\n",
      "  'Votes': 106,\n",
      "  'link': 'https://www.vice.com/en_us/article/z3bjpj/amazon-vp-tim-bray-resigns-calls-company-chickenshit-for-firing-protesting-workers'}]\n"
     ]
    }
   ],
   "source": [
    "def sort_stories_by_votes(hnlist):\n",
    "    return sorted(hnlist, key=lambda k:k['Votes'],reverse=True)\n",
    "\n",
    "def create_custom_hn(links,subtext):\n",
    "    hn=[]\n",
    "    for ind, item in enumerate(links):\n",
    "        title=item.getText()\n",
    "        href=item.get('href',None)\n",
    "        vote=subtext[ind].select('.score')\n",
    "        #points=scores[ind].getText()\n",
    "        if len(vote):\n",
    "            points=int(vote[0].getText().replace('points',''))\n",
    "            if points>99:\n",
    "             hn.append({'Title':title,'link':href,'Votes':points})\n",
    "    return sort_stories_by_votes(hn)\n",
    "pprint.pprint(create_custom_hn(mega_links,mega_subtext))\n"
   ]
  },
  {
   "cell_type": "code",
   "execution_count": null,
   "metadata": {},
   "outputs": [],
   "source": []
  }
 ],
 "metadata": {
  "kernelspec": {
   "display_name": "Python 3",
   "language": "python",
   "name": "python3"
  },
  "language_info": {
   "codemirror_mode": {
    "name": "ipython",
    "version": 3
   },
   "file_extension": ".py",
   "mimetype": "text/x-python",
   "name": "python",
   "nbconvert_exporter": "python",
   "pygments_lexer": "ipython3",
   "version": "3.7.4"
  }
 },
 "nbformat": 4,
 "nbformat_minor": 2
}
